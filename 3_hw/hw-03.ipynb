{
 "cells": [
  {
   "cell_type": "markdown",
   "id": "nO35qZDT9gEu",
   "metadata": {
    "id": "nO35qZDT9gEu"
   },
   "source": [
    "## Домашная работа №3\n",
    "\n",
    "В этом задании вам необходимо решить задачу прогнозирования количества солнечных пятен в месяце несколькими способами. Сравнивать все подходы необходимо по трем метрикам:\n",
    "\n",
    "* Mean Absolute Error;\n",
    "* Mean Squared Error;\n",
    "* Mean Absolute Percentage Error.\n",
    "\n",
    "Для обучения в качестве функции потерь можете использовать любую из них.\n",
    "\n",
    "### Create Features (2 балла)\n",
    "Создайте лаг признаки (сколько необходимо по графику автокорреляции) и оконные признаки (не меньше трех). Объясните свой выбор.\n",
    "\n",
    "Настройте кросс-валидацию (4 фолда), учитывая, что имеете дело с временными рядами.\n",
    "\n",
    "### Gradient Boosting (1.5 балла)\n",
    "Обучите любой градиентный бустинг на всех признаках из пункта `Create Features`. Проанализируйте признаки при помощи моделей SHAP (https://shap.readthedocs.io/en/latest/index.html): какие признаки оказались важными, и, как вам кажется, почему?\n",
    "\n",
    "### Simple NN (1.5 балла)\n",
    "Обучите полносвязную нейронную сеть на всех признаках из пункта `Create Features`. Поэкспериментируйте с архитектурой: попробуйте небольшие сети (2-3 слоя) и глубокие сети (5+ слоев). Есть ли прирост качества от добавления новых слоев?\n",
    "\n",
    "### CNN (1 балл)\n",
    "Обучите сверточную нейронную сеть на лаг признаках из пункта `Create Features`.\n",
    "\n",
    "### LSTM (3 балла)\n",
    "Обучите реккрентную нейронную сеть на лаг признаках из пункта `Create Features`. Попробуйте тут использовать как однонаправленные, так и двунаправленные ячейки `LSTM`, сделайте вывод об их эффективности.\n",
    "\n",
    "Поэкспериментируйте с n_features, добавив дополнительные лаг признаки из прошлого (например, в момент времени $t_n$ смотрите не обычную последовательность $(t_{n-1}, t_{n-2})$, а двойную последовательность $((t_{n-1}, t_{n-1-14}), (t_{n-2}, t_{n-2-14}))$\n",
    "\n",
    "### Вывод (1 балл)\n",
    "Сравните полученные результаты и сделайте вывод, какой подход лучше в данной задаче и, как вам кажется, почему.\n",
    "\n",
    "**Важно:** при выполнении этого задания не обязательно ограничиваться только этими пунктами. Вы можете проводить любые дополнительные исследования и применять различные техники, если это потребуется. В каждом пункте обязательно объясняйте результаты и свой ход мыслей при принятии различных решений. Если будет просто код, то есть большой шанс получить очень мало баллов."
   ]
  },
  {
   "cell_type": "code",
   "execution_count": 36,
   "id": "D0TP6tKy9gEv",
   "metadata": {
    "ExecuteTime": {
     "end_time": "2022-12-17T08:31:31.398927Z",
     "start_time": "2022-12-17T08:31:30.794467Z"
    },
    "id": "D0TP6tKy9gEv",
    "outputId": "cc269636-0a7f-4236-8a40-7819f5861f4d"
   },
   "outputs": [
    {
     "data": {
      "text/html": [
       "<div>\n",
       "<style scoped>\n",
       "    .dataframe tbody tr th:only-of-type {\n",
       "        vertical-align: middle;\n",
       "    }\n",
       "\n",
       "    .dataframe tbody tr th {\n",
       "        vertical-align: top;\n",
       "    }\n",
       "\n",
       "    .dataframe thead th {\n",
       "        text-align: right;\n",
       "    }\n",
       "</style>\n",
       "<table border=\"1\" class=\"dataframe\">\n",
       "  <thead>\n",
       "    <tr style=\"text-align: right;\">\n",
       "      <th></th>\n",
       "      <th>Month</th>\n",
       "      <th>Monthly sunspot number</th>\n",
       "    </tr>\n",
       "  </thead>\n",
       "  <tbody>\n",
       "    <tr>\n",
       "      <th>0</th>\n",
       "      <td>1749-01</td>\n",
       "      <td>58.0</td>\n",
       "    </tr>\n",
       "    <tr>\n",
       "      <th>1</th>\n",
       "      <td>1749-02</td>\n",
       "      <td>62.6</td>\n",
       "    </tr>\n",
       "    <tr>\n",
       "      <th>2</th>\n",
       "      <td>1749-03</td>\n",
       "      <td>70.0</td>\n",
       "    </tr>\n",
       "    <tr>\n",
       "      <th>3</th>\n",
       "      <td>1749-04</td>\n",
       "      <td>55.7</td>\n",
       "    </tr>\n",
       "    <tr>\n",
       "      <th>4</th>\n",
       "      <td>1749-05</td>\n",
       "      <td>85.0</td>\n",
       "    </tr>\n",
       "  </tbody>\n",
       "</table>\n",
       "</div>"
      ],
      "text/plain": [
       "     Month  Monthly sunspot number\n",
       "0  1749-01                    58.0\n",
       "1  1749-02                    62.6\n",
       "2  1749-03                    70.0\n",
       "3  1749-04                    55.7\n",
       "4  1749-05                    85.0"
      ]
     },
     "execution_count": 36,
     "metadata": {},
     "output_type": "execute_result"
    }
   ],
   "source": [
    "import pandas as pd\n",
    "\n",
    "\n",
    "data = pd.read_csv('data.csv')\n",
    "data.head()"
   ]
  },
  {
   "cell_type": "markdown",
   "id": "575360a3",
   "metadata": {
    "id": "hWwkUL1N9gEw"
   },
   "source": [
    "### Create Features"
   ]
  },
  {
   "cell_type": "code",
   "execution_count": 52,
   "id": "08a03796",
   "metadata": {},
   "outputs": [],
   "source": [
    "import pandas as pd\n",
    "import numpy as np\n",
    "from sklearn.model_selection import TimeSeriesSplit\n",
    "from sklearn.ensemble import RandomForestRegressor\n",
    "from sklearn.metrics import mean_squared_error, mean_absolute_error"
   ]
  },
  {
   "cell_type": "code",
   "execution_count": 22,
   "id": "b93ac929",
   "metadata": {},
   "outputs": [
    {
     "data": {
      "text/plain": [
       "Index(['Month', 'Monthly sunspot number'], dtype='object')"
      ]
     },
     "execution_count": 22,
     "metadata": {},
     "output_type": "execute_result"
    }
   ],
   "source": [
    "data.columns"
   ]
  },
  {
   "cell_type": "code",
   "execution_count": 37,
   "id": "047a28f2",
   "metadata": {},
   "outputs": [],
   "source": [
    "# Преобразуем столбец 'Month' в формат даты\n",
    "data['Month'] = pd.to_datetime(data['Month'])\n",
    "data.set_index('Month', inplace=True)"
   ]
  },
  {
   "cell_type": "code",
   "execution_count": 24,
   "id": "f35bdd59",
   "metadata": {},
   "outputs": [],
   "source": [
    "# Создание лаг признаков на основе автокорреляции\n",
    "autocorrelation = data['Monthly sunspot number'].autocorr()\n",
    "max_lag = int(1 / np.abs(autocorrelation))\n",
    "lag_features = ['Monthly sunspot number']\n",
    "for i in range(1, max_lag + 1):\n",
    "    data[f'Monthly_sunspot_number_lag_{i}'] = data['Monthly sunspot number'].shift(i)\n",
    "    lag_features.append(f'Monthly_sunspot_number_lag_{i}')"
   ]
  },
  {
   "cell_type": "code",
   "execution_count": 25,
   "id": "44f08b81",
   "metadata": {},
   "outputs": [],
   "source": [
    "# Создание оконных признаков\n",
    "window_sizes = [3, 5, 7]  # Выбор размеров окон\n",
    "for feature in lag_features:\n",
    "    for window in window_sizes:\n",
    "        data[f'{feature}_rolling_mean_{window}'] = data[feature].rolling(window=window).mean()\n",
    "        data[f'{feature}_rolling_std_{window}'] = data[feature].rolling(window=window).std()"
   ]
  },
  {
   "cell_type": "code",
   "execution_count": 35,
   "id": "94c39596",
   "metadata": {},
   "outputs": [
    {
     "data": {
      "text/html": [
       "<div>\n",
       "<style scoped>\n",
       "    .dataframe tbody tr th:only-of-type {\n",
       "        vertical-align: middle;\n",
       "    }\n",
       "\n",
       "    .dataframe tbody tr th {\n",
       "        vertical-align: top;\n",
       "    }\n",
       "\n",
       "    .dataframe thead th {\n",
       "        text-align: right;\n",
       "    }\n",
       "</style>\n",
       "<table border=\"1\" class=\"dataframe\">\n",
       "  <thead>\n",
       "    <tr style=\"text-align: right;\">\n",
       "      <th></th>\n",
       "      <th>Monthly sunspot number</th>\n",
       "      <th>Monthly_sunspot_number_lag_1</th>\n",
       "      <th>Monthly sunspot number_rolling_mean_3</th>\n",
       "      <th>Monthly sunspot number_rolling_std_3</th>\n",
       "      <th>Monthly sunspot number_rolling_mean_5</th>\n",
       "      <th>Monthly sunspot number_rolling_std_5</th>\n",
       "      <th>Monthly sunspot number_rolling_mean_7</th>\n",
       "      <th>Monthly sunspot number_rolling_std_7</th>\n",
       "      <th>Monthly_sunspot_number_lag_1_rolling_mean_3</th>\n",
       "      <th>Monthly_sunspot_number_lag_1_rolling_std_3</th>\n",
       "      <th>Monthly_sunspot_number_lag_1_rolling_mean_5</th>\n",
       "      <th>Monthly_sunspot_number_lag_1_rolling_std_5</th>\n",
       "      <th>Monthly_sunspot_number_lag_1_rolling_mean_7</th>\n",
       "      <th>Monthly_sunspot_number_lag_1_rolling_std_7</th>\n",
       "      <th>Monthly sunspot number_lag_3</th>\n",
       "      <th>Monthly sunspot number_lag_6</th>\n",
       "      <th>Monthly sunspot number_lag_9</th>\n",
       "    </tr>\n",
       "    <tr>\n",
       "      <th>Month</th>\n",
       "      <th></th>\n",
       "      <th></th>\n",
       "      <th></th>\n",
       "      <th></th>\n",
       "      <th></th>\n",
       "      <th></th>\n",
       "      <th></th>\n",
       "      <th></th>\n",
       "      <th></th>\n",
       "      <th></th>\n",
       "      <th></th>\n",
       "      <th></th>\n",
       "      <th></th>\n",
       "      <th></th>\n",
       "      <th></th>\n",
       "      <th></th>\n",
       "      <th></th>\n",
       "    </tr>\n",
       "  </thead>\n",
       "  <tbody>\n",
       "    <tr>\n",
       "      <th>1749-01-01</th>\n",
       "      <td>58.0</td>\n",
       "      <td>NaN</td>\n",
       "      <td>NaN</td>\n",
       "      <td>NaN</td>\n",
       "      <td>NaN</td>\n",
       "      <td>NaN</td>\n",
       "      <td>NaN</td>\n",
       "      <td>NaN</td>\n",
       "      <td>NaN</td>\n",
       "      <td>NaN</td>\n",
       "      <td>NaN</td>\n",
       "      <td>NaN</td>\n",
       "      <td>NaN</td>\n",
       "      <td>NaN</td>\n",
       "      <td>NaN</td>\n",
       "      <td>NaN</td>\n",
       "      <td>NaN</td>\n",
       "    </tr>\n",
       "    <tr>\n",
       "      <th>1749-02-01</th>\n",
       "      <td>62.6</td>\n",
       "      <td>58.0</td>\n",
       "      <td>NaN</td>\n",
       "      <td>NaN</td>\n",
       "      <td>NaN</td>\n",
       "      <td>NaN</td>\n",
       "      <td>NaN</td>\n",
       "      <td>NaN</td>\n",
       "      <td>NaN</td>\n",
       "      <td>NaN</td>\n",
       "      <td>NaN</td>\n",
       "      <td>NaN</td>\n",
       "      <td>NaN</td>\n",
       "      <td>NaN</td>\n",
       "      <td>NaN</td>\n",
       "      <td>NaN</td>\n",
       "      <td>NaN</td>\n",
       "    </tr>\n",
       "    <tr>\n",
       "      <th>1749-03-01</th>\n",
       "      <td>70.0</td>\n",
       "      <td>62.6</td>\n",
       "      <td>63.533333</td>\n",
       "      <td>6.054200</td>\n",
       "      <td>NaN</td>\n",
       "      <td>NaN</td>\n",
       "      <td>NaN</td>\n",
       "      <td>NaN</td>\n",
       "      <td>NaN</td>\n",
       "      <td>NaN</td>\n",
       "      <td>NaN</td>\n",
       "      <td>NaN</td>\n",
       "      <td>NaN</td>\n",
       "      <td>NaN</td>\n",
       "      <td>NaN</td>\n",
       "      <td>NaN</td>\n",
       "      <td>NaN</td>\n",
       "    </tr>\n",
       "    <tr>\n",
       "      <th>1749-04-01</th>\n",
       "      <td>55.7</td>\n",
       "      <td>70.0</td>\n",
       "      <td>62.766667</td>\n",
       "      <td>7.151457</td>\n",
       "      <td>NaN</td>\n",
       "      <td>NaN</td>\n",
       "      <td>NaN</td>\n",
       "      <td>NaN</td>\n",
       "      <td>63.533333</td>\n",
       "      <td>6.054200</td>\n",
       "      <td>NaN</td>\n",
       "      <td>NaN</td>\n",
       "      <td>NaN</td>\n",
       "      <td>NaN</td>\n",
       "      <td>58.0</td>\n",
       "      <td>NaN</td>\n",
       "      <td>NaN</td>\n",
       "    </tr>\n",
       "    <tr>\n",
       "      <th>1749-05-01</th>\n",
       "      <td>85.0</td>\n",
       "      <td>55.7</td>\n",
       "      <td>70.233333</td>\n",
       "      <td>14.651394</td>\n",
       "      <td>66.26</td>\n",
       "      <td>11.814313</td>\n",
       "      <td>NaN</td>\n",
       "      <td>NaN</td>\n",
       "      <td>62.766667</td>\n",
       "      <td>7.151457</td>\n",
       "      <td>NaN</td>\n",
       "      <td>NaN</td>\n",
       "      <td>NaN</td>\n",
       "      <td>NaN</td>\n",
       "      <td>62.6</td>\n",
       "      <td>NaN</td>\n",
       "      <td>NaN</td>\n",
       "    </tr>\n",
       "  </tbody>\n",
       "</table>\n",
       "</div>"
      ],
      "text/plain": [
       "            Monthly sunspot number  Monthly_sunspot_number_lag_1  \\\n",
       "Month                                                              \n",
       "1749-01-01                    58.0                           NaN   \n",
       "1749-02-01                    62.6                          58.0   \n",
       "1749-03-01                    70.0                          62.6   \n",
       "1749-04-01                    55.7                          70.0   \n",
       "1749-05-01                    85.0                          55.7   \n",
       "\n",
       "            Monthly sunspot number_rolling_mean_3  \\\n",
       "Month                                               \n",
       "1749-01-01                                    NaN   \n",
       "1749-02-01                                    NaN   \n",
       "1749-03-01                              63.533333   \n",
       "1749-04-01                              62.766667   \n",
       "1749-05-01                              70.233333   \n",
       "\n",
       "            Monthly sunspot number_rolling_std_3  \\\n",
       "Month                                              \n",
       "1749-01-01                                   NaN   \n",
       "1749-02-01                                   NaN   \n",
       "1749-03-01                              6.054200   \n",
       "1749-04-01                              7.151457   \n",
       "1749-05-01                             14.651394   \n",
       "\n",
       "            Monthly sunspot number_rolling_mean_5  \\\n",
       "Month                                               \n",
       "1749-01-01                                    NaN   \n",
       "1749-02-01                                    NaN   \n",
       "1749-03-01                                    NaN   \n",
       "1749-04-01                                    NaN   \n",
       "1749-05-01                                  66.26   \n",
       "\n",
       "            Monthly sunspot number_rolling_std_5  \\\n",
       "Month                                              \n",
       "1749-01-01                                   NaN   \n",
       "1749-02-01                                   NaN   \n",
       "1749-03-01                                   NaN   \n",
       "1749-04-01                                   NaN   \n",
       "1749-05-01                             11.814313   \n",
       "\n",
       "            Monthly sunspot number_rolling_mean_7  \\\n",
       "Month                                               \n",
       "1749-01-01                                    NaN   \n",
       "1749-02-01                                    NaN   \n",
       "1749-03-01                                    NaN   \n",
       "1749-04-01                                    NaN   \n",
       "1749-05-01                                    NaN   \n",
       "\n",
       "            Monthly sunspot number_rolling_std_7  \\\n",
       "Month                                              \n",
       "1749-01-01                                   NaN   \n",
       "1749-02-01                                   NaN   \n",
       "1749-03-01                                   NaN   \n",
       "1749-04-01                                   NaN   \n",
       "1749-05-01                                   NaN   \n",
       "\n",
       "            Monthly_sunspot_number_lag_1_rolling_mean_3  \\\n",
       "Month                                                     \n",
       "1749-01-01                                          NaN   \n",
       "1749-02-01                                          NaN   \n",
       "1749-03-01                                          NaN   \n",
       "1749-04-01                                    63.533333   \n",
       "1749-05-01                                    62.766667   \n",
       "\n",
       "            Monthly_sunspot_number_lag_1_rolling_std_3  \\\n",
       "Month                                                    \n",
       "1749-01-01                                         NaN   \n",
       "1749-02-01                                         NaN   \n",
       "1749-03-01                                         NaN   \n",
       "1749-04-01                                    6.054200   \n",
       "1749-05-01                                    7.151457   \n",
       "\n",
       "            Monthly_sunspot_number_lag_1_rolling_mean_5  \\\n",
       "Month                                                     \n",
       "1749-01-01                                          NaN   \n",
       "1749-02-01                                          NaN   \n",
       "1749-03-01                                          NaN   \n",
       "1749-04-01                                          NaN   \n",
       "1749-05-01                                          NaN   \n",
       "\n",
       "            Monthly_sunspot_number_lag_1_rolling_std_5  \\\n",
       "Month                                                    \n",
       "1749-01-01                                         NaN   \n",
       "1749-02-01                                         NaN   \n",
       "1749-03-01                                         NaN   \n",
       "1749-04-01                                         NaN   \n",
       "1749-05-01                                         NaN   \n",
       "\n",
       "            Monthly_sunspot_number_lag_1_rolling_mean_7  \\\n",
       "Month                                                     \n",
       "1749-01-01                                          NaN   \n",
       "1749-02-01                                          NaN   \n",
       "1749-03-01                                          NaN   \n",
       "1749-04-01                                          NaN   \n",
       "1749-05-01                                          NaN   \n",
       "\n",
       "            Monthly_sunspot_number_lag_1_rolling_std_7  \\\n",
       "Month                                                    \n",
       "1749-01-01                                         NaN   \n",
       "1749-02-01                                         NaN   \n",
       "1749-03-01                                         NaN   \n",
       "1749-04-01                                         NaN   \n",
       "1749-05-01                                         NaN   \n",
       "\n",
       "            Monthly sunspot number_lag_3  Monthly sunspot number_lag_6  \\\n",
       "Month                                                                    \n",
       "1749-01-01                           NaN                           NaN   \n",
       "1749-02-01                           NaN                           NaN   \n",
       "1749-03-01                           NaN                           NaN   \n",
       "1749-04-01                          58.0                           NaN   \n",
       "1749-05-01                          62.6                           NaN   \n",
       "\n",
       "            Monthly sunspot number_lag_9  \n",
       "Month                                     \n",
       "1749-01-01                           NaN  \n",
       "1749-02-01                           NaN  \n",
       "1749-03-01                           NaN  \n",
       "1749-04-01                           NaN  \n",
       "1749-05-01                           NaN  "
      ]
     },
     "execution_count": 35,
     "metadata": {},
     "output_type": "execute_result"
    }
   ],
   "source": [
    "data.head()"
   ]
  },
  {
   "cell_type": "code",
   "execution_count": 38,
   "id": "74639ad5",
   "metadata": {},
   "outputs": [],
   "source": [
    "data.sort_values('Month', inplace=True)"
   ]
  },
  {
   "cell_type": "code",
   "execution_count": 39,
   "id": "b35de061",
   "metadata": {},
   "outputs": [],
   "source": [
    "lag_features = ['Monthly sunspot number']\n",
    "lags = [3, 6, 9]\n",
    "\n",
    "for feature in lag_features:\n",
    "    for lag in lags:\n",
    "        data[f'{feature}_lag_{lag}'] = data[feature].shift(lag)"
   ]
  },
  {
   "cell_type": "code",
   "execution_count": 40,
   "id": "61759fd6",
   "metadata": {},
   "outputs": [],
   "source": [
    "window_sizes = [3, 5, 7]  \n",
    "\n",
    "for feature in lag_features:\n",
    "    for window in window_sizes:\n",
    "        data[f'{feature}_rolling_mean_{window}'] = data[feature].rolling(window=window).mean()\n",
    "        data[f'{feature}_rolling_std_{window}'] = data[feature].rolling(window=window).std()"
   ]
  },
  {
   "cell_type": "code",
   "execution_count": 46,
   "id": "0c75ab96",
   "metadata": {},
   "outputs": [],
   "source": [
    "data = data.fillna(data.mean())"
   ]
  },
  {
   "cell_type": "code",
   "execution_count": 47,
   "id": "74e6e974",
   "metadata": {},
   "outputs": [],
   "source": [
    "train_size = int(0.75 * len(data))\n",
    "train, test = data[:train_size], data[train_size:]"
   ]
  },
  {
   "cell_type": "code",
   "execution_count": 48,
   "id": "1d0ae532",
   "metadata": {},
   "outputs": [],
   "source": [
    "tscv = TimeSeriesSplit(n_splits=4)"
   ]
  },
  {
   "cell_type": "code",
   "execution_count": 49,
   "id": "4cae3189",
   "metadata": {
    "scrolled": true
   },
   "outputs": [
    {
     "data": {
      "text/html": [
       "<div>\n",
       "<style scoped>\n",
       "    .dataframe tbody tr th:only-of-type {\n",
       "        vertical-align: middle;\n",
       "    }\n",
       "\n",
       "    .dataframe tbody tr th {\n",
       "        vertical-align: top;\n",
       "    }\n",
       "\n",
       "    .dataframe thead th {\n",
       "        text-align: right;\n",
       "    }\n",
       "</style>\n",
       "<table border=\"1\" class=\"dataframe\">\n",
       "  <thead>\n",
       "    <tr style=\"text-align: right;\">\n",
       "      <th></th>\n",
       "      <th>Monthly sunspot number</th>\n",
       "      <th>Monthly sunspot number_lag_3</th>\n",
       "      <th>Monthly sunspot number_lag_6</th>\n",
       "      <th>Monthly sunspot number_lag_9</th>\n",
       "      <th>Monthly sunspot number_rolling_mean_3</th>\n",
       "      <th>Monthly sunspot number_rolling_std_3</th>\n",
       "      <th>Monthly sunspot number_rolling_mean_5</th>\n",
       "      <th>Monthly sunspot number_rolling_std_5</th>\n",
       "      <th>Monthly sunspot number_rolling_mean_7</th>\n",
       "      <th>Monthly sunspot number_rolling_std_7</th>\n",
       "    </tr>\n",
       "    <tr>\n",
       "      <th>Month</th>\n",
       "      <th></th>\n",
       "      <th></th>\n",
       "      <th></th>\n",
       "      <th></th>\n",
       "      <th></th>\n",
       "      <th></th>\n",
       "      <th></th>\n",
       "      <th></th>\n",
       "      <th></th>\n",
       "      <th></th>\n",
       "    </tr>\n",
       "  </thead>\n",
       "  <tbody>\n",
       "    <tr>\n",
       "      <th>1749-01-01</th>\n",
       "      <td>58.0</td>\n",
       "      <td>51.277068</td>\n",
       "      <td>51.259133</td>\n",
       "      <td>51.217432</td>\n",
       "      <td>51.269375</td>\n",
       "      <td>10.074017</td>\n",
       "      <td>51.266982</td>\n",
       "      <td>11.546644</td>\n",
       "      <td>51.257062</td>\n",
       "      <td>12.456596</td>\n",
       "    </tr>\n",
       "    <tr>\n",
       "      <th>1749-02-01</th>\n",
       "      <td>62.6</td>\n",
       "      <td>51.277068</td>\n",
       "      <td>51.259133</td>\n",
       "      <td>51.217432</td>\n",
       "      <td>51.269375</td>\n",
       "      <td>10.074017</td>\n",
       "      <td>51.266982</td>\n",
       "      <td>11.546644</td>\n",
       "      <td>51.257062</td>\n",
       "      <td>12.456596</td>\n",
       "    </tr>\n",
       "    <tr>\n",
       "      <th>1749-03-01</th>\n",
       "      <td>70.0</td>\n",
       "      <td>51.277068</td>\n",
       "      <td>51.259133</td>\n",
       "      <td>51.217432</td>\n",
       "      <td>63.533333</td>\n",
       "      <td>6.054200</td>\n",
       "      <td>51.266982</td>\n",
       "      <td>11.546644</td>\n",
       "      <td>51.257062</td>\n",
       "      <td>12.456596</td>\n",
       "    </tr>\n",
       "    <tr>\n",
       "      <th>1749-04-01</th>\n",
       "      <td>55.7</td>\n",
       "      <td>58.000000</td>\n",
       "      <td>51.259133</td>\n",
       "      <td>51.217432</td>\n",
       "      <td>62.766667</td>\n",
       "      <td>7.151457</td>\n",
       "      <td>51.266982</td>\n",
       "      <td>11.546644</td>\n",
       "      <td>51.257062</td>\n",
       "      <td>12.456596</td>\n",
       "    </tr>\n",
       "    <tr>\n",
       "      <th>1749-05-01</th>\n",
       "      <td>85.0</td>\n",
       "      <td>62.600000</td>\n",
       "      <td>51.259133</td>\n",
       "      <td>51.217432</td>\n",
       "      <td>70.233333</td>\n",
       "      <td>14.651394</td>\n",
       "      <td>66.260000</td>\n",
       "      <td>11.814313</td>\n",
       "      <td>51.257062</td>\n",
       "      <td>12.456596</td>\n",
       "    </tr>\n",
       "    <tr>\n",
       "      <th>...</th>\n",
       "      <td>...</td>\n",
       "      <td>...</td>\n",
       "      <td>...</td>\n",
       "      <td>...</td>\n",
       "      <td>...</td>\n",
       "      <td>...</td>\n",
       "      <td>...</td>\n",
       "      <td>...</td>\n",
       "      <td>...</td>\n",
       "      <td>...</td>\n",
       "    </tr>\n",
       "    <tr>\n",
       "      <th>1983-08-01</th>\n",
       "      <td>71.8</td>\n",
       "      <td>99.200000</td>\n",
       "      <td>51.000000</td>\n",
       "      <td>98.100000</td>\n",
       "      <td>81.700000</td>\n",
       "      <td>9.659710</td>\n",
       "      <td>85.000000</td>\n",
       "      <td>10.481174</td>\n",
       "      <td>77.500000</td>\n",
       "      <td>16.041197</td>\n",
       "    </tr>\n",
       "    <tr>\n",
       "      <th>1983-09-01</th>\n",
       "      <td>50.3</td>\n",
       "      <td>91.100000</td>\n",
       "      <td>66.500000</td>\n",
       "      <td>127.000000</td>\n",
       "      <td>68.100000</td>\n",
       "      <td>16.268682</td>\n",
       "      <td>78.920000</td>\n",
       "      <td>18.974904</td>\n",
       "      <td>77.400000</td>\n",
       "      <td>16.234942</td>\n",
       "    </tr>\n",
       "    <tr>\n",
       "      <th>1983-10-01</th>\n",
       "      <td>55.8</td>\n",
       "      <td>82.200000</td>\n",
       "      <td>80.700000</td>\n",
       "      <td>84.300000</td>\n",
       "      <td>59.300000</td>\n",
       "      <td>11.169154</td>\n",
       "      <td>70.240000</td>\n",
       "      <td>17.224488</td>\n",
       "      <td>75.871429</td>\n",
       "      <td>17.855131</td>\n",
       "    </tr>\n",
       "    <tr>\n",
       "      <th>1983-11-01</th>\n",
       "      <td>33.3</td>\n",
       "      <td>71.800000</td>\n",
       "      <td>99.200000</td>\n",
       "      <td>51.000000</td>\n",
       "      <td>46.466667</td>\n",
       "      <td>11.729592</td>\n",
       "      <td>58.680000</td>\n",
       "      <td>19.026219</td>\n",
       "      <td>69.100000</td>\n",
       "      <td>23.737734</td>\n",
       "    </tr>\n",
       "    <tr>\n",
       "      <th>1983-12-01</th>\n",
       "      <td>33.4</td>\n",
       "      <td>50.300000</td>\n",
       "      <td>91.100000</td>\n",
       "      <td>66.500000</td>\n",
       "      <td>40.833333</td>\n",
       "      <td>12.961610</td>\n",
       "      <td>48.920000</td>\n",
       "      <td>16.260289</td>\n",
       "      <td>59.700000</td>\n",
       "      <td>22.843088</td>\n",
       "    </tr>\n",
       "  </tbody>\n",
       "</table>\n",
       "<p>2820 rows × 10 columns</p>\n",
       "</div>"
      ],
      "text/plain": [
       "            Monthly sunspot number  Monthly sunspot number_lag_3  \\\n",
       "Month                                                              \n",
       "1749-01-01                    58.0                     51.277068   \n",
       "1749-02-01                    62.6                     51.277068   \n",
       "1749-03-01                    70.0                     51.277068   \n",
       "1749-04-01                    55.7                     58.000000   \n",
       "1749-05-01                    85.0                     62.600000   \n",
       "...                            ...                           ...   \n",
       "1983-08-01                    71.8                     99.200000   \n",
       "1983-09-01                    50.3                     91.100000   \n",
       "1983-10-01                    55.8                     82.200000   \n",
       "1983-11-01                    33.3                     71.800000   \n",
       "1983-12-01                    33.4                     50.300000   \n",
       "\n",
       "            Monthly sunspot number_lag_6  Monthly sunspot number_lag_9  \\\n",
       "Month                                                                    \n",
       "1749-01-01                     51.259133                     51.217432   \n",
       "1749-02-01                     51.259133                     51.217432   \n",
       "1749-03-01                     51.259133                     51.217432   \n",
       "1749-04-01                     51.259133                     51.217432   \n",
       "1749-05-01                     51.259133                     51.217432   \n",
       "...                                  ...                           ...   \n",
       "1983-08-01                     51.000000                     98.100000   \n",
       "1983-09-01                     66.500000                    127.000000   \n",
       "1983-10-01                     80.700000                     84.300000   \n",
       "1983-11-01                     99.200000                     51.000000   \n",
       "1983-12-01                     91.100000                     66.500000   \n",
       "\n",
       "            Monthly sunspot number_rolling_mean_3  \\\n",
       "Month                                               \n",
       "1749-01-01                              51.269375   \n",
       "1749-02-01                              51.269375   \n",
       "1749-03-01                              63.533333   \n",
       "1749-04-01                              62.766667   \n",
       "1749-05-01                              70.233333   \n",
       "...                                           ...   \n",
       "1983-08-01                              81.700000   \n",
       "1983-09-01                              68.100000   \n",
       "1983-10-01                              59.300000   \n",
       "1983-11-01                              46.466667   \n",
       "1983-12-01                              40.833333   \n",
       "\n",
       "            Monthly sunspot number_rolling_std_3  \\\n",
       "Month                                              \n",
       "1749-01-01                             10.074017   \n",
       "1749-02-01                             10.074017   \n",
       "1749-03-01                              6.054200   \n",
       "1749-04-01                              7.151457   \n",
       "1749-05-01                             14.651394   \n",
       "...                                          ...   \n",
       "1983-08-01                              9.659710   \n",
       "1983-09-01                             16.268682   \n",
       "1983-10-01                             11.169154   \n",
       "1983-11-01                             11.729592   \n",
       "1983-12-01                             12.961610   \n",
       "\n",
       "            Monthly sunspot number_rolling_mean_5  \\\n",
       "Month                                               \n",
       "1749-01-01                              51.266982   \n",
       "1749-02-01                              51.266982   \n",
       "1749-03-01                              51.266982   \n",
       "1749-04-01                              51.266982   \n",
       "1749-05-01                              66.260000   \n",
       "...                                           ...   \n",
       "1983-08-01                              85.000000   \n",
       "1983-09-01                              78.920000   \n",
       "1983-10-01                              70.240000   \n",
       "1983-11-01                              58.680000   \n",
       "1983-12-01                              48.920000   \n",
       "\n",
       "            Monthly sunspot number_rolling_std_5  \\\n",
       "Month                                              \n",
       "1749-01-01                             11.546644   \n",
       "1749-02-01                             11.546644   \n",
       "1749-03-01                             11.546644   \n",
       "1749-04-01                             11.546644   \n",
       "1749-05-01                             11.814313   \n",
       "...                                          ...   \n",
       "1983-08-01                             10.481174   \n",
       "1983-09-01                             18.974904   \n",
       "1983-10-01                             17.224488   \n",
       "1983-11-01                             19.026219   \n",
       "1983-12-01                             16.260289   \n",
       "\n",
       "            Monthly sunspot number_rolling_mean_7  \\\n",
       "Month                                               \n",
       "1749-01-01                              51.257062   \n",
       "1749-02-01                              51.257062   \n",
       "1749-03-01                              51.257062   \n",
       "1749-04-01                              51.257062   \n",
       "1749-05-01                              51.257062   \n",
       "...                                           ...   \n",
       "1983-08-01                              77.500000   \n",
       "1983-09-01                              77.400000   \n",
       "1983-10-01                              75.871429   \n",
       "1983-11-01                              69.100000   \n",
       "1983-12-01                              59.700000   \n",
       "\n",
       "            Monthly sunspot number_rolling_std_7  \n",
       "Month                                             \n",
       "1749-01-01                             12.456596  \n",
       "1749-02-01                             12.456596  \n",
       "1749-03-01                             12.456596  \n",
       "1749-04-01                             12.456596  \n",
       "1749-05-01                             12.456596  \n",
       "...                                          ...  \n",
       "1983-08-01                             16.041197  \n",
       "1983-09-01                             16.234942  \n",
       "1983-10-01                             17.855131  \n",
       "1983-11-01                             23.737734  \n",
       "1983-12-01                             22.843088  \n",
       "\n",
       "[2820 rows x 10 columns]"
      ]
     },
     "execution_count": 49,
     "metadata": {},
     "output_type": "execute_result"
    }
   ],
   "source": [
    "data"
   ]
  },
  {
   "cell_type": "code",
   "execution_count": 53,
   "id": "965cfa0a",
   "metadata": {},
   "outputs": [
    {
     "name": "stdout",
     "output_type": "stream",
     "text": [
      "Mean Absolute Error: 6.122698975571317\n",
      "Mean Absolute Error: 8.722455319148935\n",
      "Mean Absolute Error: 7.085749915569066\n",
      "Mean Absolute Error: 7.523504334121355\n"
     ]
    }
   ],
   "source": [
    "for train_index, test_index in tscv.split(train):\n",
    "    train_fold, val_fold = train.iloc[train_index], train.iloc[test_index]\n",
    "\n",
    "    X_train, y_train = train_fold.drop('Monthly sunspot number', axis=1), train_fold['Monthly sunspot number']\n",
    "    X_val, y_val = val_fold.drop('Monthly sunspot number', axis=1), val_fold['Monthly sunspot number']\n",
    "\n",
    "    model = RandomForestRegressor()\n",
    "    model.fit(X_train, y_train)\n",
    "\n",
    "    predictions = model.predict(X_val)\n",
    "\n",
    "    mae = mean_absolute_error(y_val, predictions)\n",
    "    print(f'Mean Absolute Error: {mae}')"
   ]
  },
  {
   "cell_type": "code",
   "execution_count": 54,
   "id": "f2a590e8",
   "metadata": {},
   "outputs": [
    {
     "name": "stdout",
     "output_type": "stream",
     "text": [
      "Mean Squared Error: 75.27562484258998\n",
      "Mean Squared Error: 160.17049175079333\n",
      "Mean Squared Error: 96.15297393656033\n",
      "Mean Squared Error: 129.07098929195166\n"
     ]
    }
   ],
   "source": [
    "for train_index, test_index in tscv.split(train):\n",
    "    train_fold, val_fold = train.iloc[train_index], train.iloc[test_index]\n",
    "\n",
    "    X_train, y_train = train_fold.drop('Monthly sunspot number', axis=1), train_fold['Monthly sunspot number']\n",
    "    X_val, y_val = val_fold.drop('Monthly sunspot number', axis=1), val_fold['Monthly sunspot number']\n",
    "\n",
    "    model = RandomForestRegressor()\n",
    "    model.fit(X_train, y_train)\n",
    "\n",
    "    predictions = model.predict(X_val)\n",
    "\n",
    "    mse = mean_squared_error(y_val, predictions)\n",
    "    print(f'Mean Squared Error: {mse}')"
   ]
  },
  {
   "cell_type": "code",
   "execution_count": 55,
   "id": "376dc79c",
   "metadata": {},
   "outputs": [],
   "source": [
    "def mean_absolute_percentage_error(y_true, y_pred):\n",
    "    y_true, y_pred = np.array(y_true), np.array(y_pred)\n",
    "    mask = y_true != 0  # Избегаем деления на ноль\n",
    "    return np.mean(np.abs((y_true[mask] - y_pred[mask]) / y_true[mask])) * 100"
   ]
  },
  {
   "cell_type": "code",
   "execution_count": 56,
   "id": "7808759a",
   "metadata": {},
   "outputs": [
    {
     "name": "stdout",
     "output_type": "stream",
     "text": [
      "Mean Absolute Percentage Error: 51.0450803937883\n",
      "Mean Absolute Percentage Error: 34.8359964659193\n",
      "Mean Absolute Percentage Error: 60.14949544608758\n",
      "Mean Absolute Percentage Error: 49.16103668612053\n"
     ]
    }
   ],
   "source": [
    "for train_index, test_index in tscv.split(train):\n",
    "    train_fold, val_fold = train.iloc[train_index], train.iloc[test_index]\n",
    "\n",
    "    X_train, y_train = train_fold.drop('Monthly sunspot number', axis=1), train_fold['Monthly sunspot number']\n",
    "    X_val, y_val = val_fold.drop('Monthly sunspot number', axis=1), val_fold['Monthly sunspot number']\n",
    "\n",
    "    model = RandomForestRegressor()\n",
    "    model.fit(X_train, y_train)\n",
    "\n",
    "    predictions = model.predict(X_val)\n",
    "\n",
    "    mape = mean_absolute_percentage_error(y_val, predictions)\n",
    "    print(f'Mean Absolute Percentage Error: {mape}')"
   ]
  },
  {
   "cell_type": "markdown",
   "id": "adc70b01",
   "metadata": {},
   "source": [
    "### Gradient Boosting"
   ]
  },
  {
   "cell_type": "code",
   "execution_count": 58,
   "id": "f13fb852",
   "metadata": {},
   "outputs": [
    {
     "name": "stdout",
     "output_type": "stream",
     "text": [
      "Collecting shap\n",
      "  Downloading shap-0.44.0-cp39-cp39-win_amd64.whl (447 kB)\n",
      "Requirement already satisfied: tqdm>=4.27.0 in c:\\programdata\\anaconda3\\lib\\site-packages (from shap) (4.62.3)\n",
      "Requirement already satisfied: scikit-learn in c:\\programdata\\anaconda3\\lib\\site-packages (from shap) (0.24.2)\n",
      "Requirement already satisfied: cloudpickle in c:\\programdata\\anaconda3\\lib\\site-packages (from shap) (2.0.0)\n",
      "Requirement already satisfied: numpy in c:\\programdata\\anaconda3\\lib\\site-packages (from shap) (1.20.3)\n",
      "Requirement already satisfied: numba in c:\\programdata\\anaconda3\\lib\\site-packages (from shap) (0.54.1)\n",
      "Requirement already satisfied: pandas in c:\\programdata\\anaconda3\\lib\\site-packages (from shap) (1.3.4)\n",
      "Collecting slicer==0.0.7\n",
      "  Downloading slicer-0.0.7-py3-none-any.whl (14 kB)\n",
      "Requirement already satisfied: packaging>20.9 in c:\\programdata\\anaconda3\\lib\\site-packages (from shap) (21.0)\n",
      "Requirement already satisfied: scipy in c:\\programdata\\anaconda3\\lib\\site-packages (from shap) (1.7.1)\n",
      "Requirement already satisfied: pyparsing>=2.0.2 in c:\\programdata\\anaconda3\\lib\\site-packages (from packaging>20.9->shap) (3.0.4)\n",
      "Requirement already satisfied: colorama in c:\\programdata\\anaconda3\\lib\\site-packages (from tqdm>=4.27.0->shap) (0.4.4)\n",
      "Requirement already satisfied: llvmlite<0.38,>=0.37.0rc1 in c:\\programdata\\anaconda3\\lib\\site-packages (from numba->shap) (0.37.0)\n",
      "Requirement already satisfied: setuptools in c:\\programdata\\anaconda3\\lib\\site-packages (from numba->shap) (58.0.4)\n",
      "Requirement already satisfied: python-dateutil>=2.7.3 in c:\\programdata\\anaconda3\\lib\\site-packages (from pandas->shap) (2.8.2)\n",
      "Requirement already satisfied: pytz>=2017.3 in c:\\programdata\\anaconda3\\lib\\site-packages (from pandas->shap) (2021.3)\n",
      "Requirement already satisfied: six>=1.5 in c:\\programdata\\anaconda3\\lib\\site-packages (from python-dateutil>=2.7.3->pandas->shap) (1.16.0)\n",
      "Requirement already satisfied: threadpoolctl>=2.0.0 in c:\\programdata\\anaconda3\\lib\\site-packages (from scikit-learn->shap) (2.2.0)\n",
      "Requirement already satisfied: joblib>=0.11 in c:\\programdata\\anaconda3\\lib\\site-packages (from scikit-learn->shap) (1.1.0)\n",
      "Installing collected packages: slicer, shap\n",
      "Successfully installed shap-0.44.0 slicer-0.0.7\n"
     ]
    },
    {
     "name": "stderr",
     "output_type": "stream",
     "text": [
      "WARNING: Ignoring invalid distribution -mpy (c:\\programdata\\anaconda3\\lib\\site-packages)\n",
      "WARNING: Ignoring invalid distribution -umpy (c:\\programdata\\anaconda3\\lib\\site-packages)\n",
      "WARNING: Ignoring invalid distribution -mpy (c:\\programdata\\anaconda3\\lib\\site-packages)\n",
      "WARNING: Ignoring invalid distribution - (c:\\programdata\\anaconda3\\lib\\site-packages)\n",
      "WARNING: Ignoring invalid distribution -mpy (c:\\programdata\\anaconda3\\lib\\site-packages)\n",
      "WARNING: Ignoring invalid distribution -umpy (c:\\programdata\\anaconda3\\lib\\site-packages)\n",
      "WARNING: Ignoring invalid distribution -mpy (c:\\programdata\\anaconda3\\lib\\site-packages)\n",
      "WARNING: Ignoring invalid distribution - (c:\\programdata\\anaconda3\\lib\\site-packages)\n",
      "WARNING: Ignoring invalid distribution -mpy (c:\\programdata\\anaconda3\\lib\\site-packages)\n",
      "WARNING: Ignoring invalid distribution -umpy (c:\\programdata\\anaconda3\\lib\\site-packages)\n",
      "WARNING: Ignoring invalid distribution -mpy (c:\\programdata\\anaconda3\\lib\\site-packages)\n",
      "WARNING: Ignoring invalid distribution - (c:\\programdata\\anaconda3\\lib\\site-packages)\n",
      "WARNING: Ignoring invalid distribution -mpy (c:\\programdata\\anaconda3\\lib\\site-packages)\n",
      "WARNING: Ignoring invalid distribution -umpy (c:\\programdata\\anaconda3\\lib\\site-packages)\n",
      "WARNING: Ignoring invalid distribution -mpy (c:\\programdata\\anaconda3\\lib\\site-packages)\n",
      "WARNING: Ignoring invalid distribution - (c:\\programdata\\anaconda3\\lib\\site-packages)\n",
      "WARNING: Ignoring invalid distribution -mpy (c:\\programdata\\anaconda3\\lib\\site-packages)\n",
      "WARNING: Ignoring invalid distribution -umpy (c:\\programdata\\anaconda3\\lib\\site-packages)\n",
      "WARNING: Ignoring invalid distribution -mpy (c:\\programdata\\anaconda3\\lib\\site-packages)\n",
      "WARNING: Ignoring invalid distribution - (c:\\programdata\\anaconda3\\lib\\site-packages)\n",
      "WARNING: Ignoring invalid distribution -mpy (c:\\programdata\\anaconda3\\lib\\site-packages)\n",
      "WARNING: Ignoring invalid distribution -umpy (c:\\programdata\\anaconda3\\lib\\site-packages)\n",
      "WARNING: Ignoring invalid distribution -mpy (c:\\programdata\\anaconda3\\lib\\site-packages)\n",
      "WARNING: Ignoring invalid distribution - (c:\\programdata\\anaconda3\\lib\\site-packages)\n",
      "WARNING: Ignoring invalid distribution -mpy (c:\\programdata\\anaconda3\\lib\\site-packages)\n",
      "WARNING: Ignoring invalid distribution -umpy (c:\\programdata\\anaconda3\\lib\\site-packages)\n",
      "WARNING: Ignoring invalid distribution -mpy (c:\\programdata\\anaconda3\\lib\\site-packages)\n",
      "WARNING: Ignoring invalid distribution - (c:\\programdata\\anaconda3\\lib\\site-packages)\n",
      "WARNING: Ignoring invalid distribution -mpy (c:\\programdata\\anaconda3\\lib\\site-packages)\n",
      "WARNING: Ignoring invalid distribution -umpy (c:\\programdata\\anaconda3\\lib\\site-packages)\n",
      "WARNING: Ignoring invalid distribution -mpy (c:\\programdata\\anaconda3\\lib\\site-packages)\n",
      "WARNING: Ignoring invalid distribution - (c:\\programdata\\anaconda3\\lib\\site-packages)\n"
     ]
    }
   ],
   "source": [
    "!pip install shap"
   ]
  },
  {
   "cell_type": "code",
   "execution_count": 59,
   "id": "44ac509f",
   "metadata": {},
   "outputs": [],
   "source": [
    "import xgboost as xgb\n",
    "import shap"
   ]
  },
  {
   "cell_type": "code",
   "execution_count": 60,
   "id": "3e2fa50a",
   "metadata": {},
   "outputs": [],
   "source": [
    "features = [col for col in data.columns if col != 'Monthly sunspot number']"
   ]
  },
  {
   "cell_type": "code",
   "execution_count": 61,
   "id": "1bc3afbe",
   "metadata": {},
   "outputs": [],
   "source": [
    "train_size = int(0.75 * len(data))\n",
    "train, test = data[:train_size], data[train_size:]"
   ]
  },
  {
   "cell_type": "code",
   "execution_count": 62,
   "id": "dc56dd46",
   "metadata": {},
   "outputs": [],
   "source": [
    "X_train, y_train = train[features], train['Monthly sunspot number']\n",
    "X_test, y_test = test[features], test['Monthly sunspot number']"
   ]
  },
  {
   "cell_type": "code",
   "execution_count": 63,
   "id": "6b9cb408",
   "metadata": {
    "scrolled": true
   },
   "outputs": [
    {
     "data": {
      "text/plain": [
       "XGBRegressor(base_score=None, booster=None, callbacks=None,\n",
       "             colsample_bylevel=None, colsample_bynode=None,\n",
       "             colsample_bytree=None, device=None, early_stopping_rounds=None,\n",
       "             enable_categorical=False, eval_metric=None, feature_types=None,\n",
       "             gamma=None, grow_policy=None, importance_type=None,\n",
       "             interaction_constraints=None, learning_rate=None, max_bin=None,\n",
       "             max_cat_threshold=None, max_cat_to_onehot=None,\n",
       "             max_delta_step=None, max_depth=None, max_leaves=None,\n",
       "             min_child_weight=None, missing=nan, monotone_constraints=None,\n",
       "             multi_strategy=None, n_estimators=None, n_jobs=None,\n",
       "             num_parallel_tree=None, random_state=None, ...)"
      ]
     },
     "execution_count": 63,
     "metadata": {},
     "output_type": "execute_result"
    }
   ],
   "source": [
    "model = xgb.XGBRegressor()\n",
    "model.fit(X_train, y_train)"
   ]
  },
  {
   "cell_type": "code",
   "execution_count": 66,
   "id": "8d4018fb",
   "metadata": {},
   "outputs": [],
   "source": [
    "predictions = model.predict(X_test)"
   ]
  },
  {
   "cell_type": "code",
   "execution_count": 67,
   "id": "6e192cbf",
   "metadata": {},
   "outputs": [
    {
     "name": "stdout",
     "output_type": "stream",
     "text": [
      "Mean Absolute Error: 10.917878459983685\n"
     ]
    }
   ],
   "source": [
    "mae = mean_absolute_error(y_test, predictions)\n",
    "print(f'Mean Absolute Error: {mae}')"
   ]
  },
  {
   "cell_type": "code",
   "execution_count": 70,
   "id": "a3857572",
   "metadata": {},
   "outputs": [
    {
     "name": "stdout",
     "output_type": "stream",
     "text": [
      "Mean Squared Error: 302.4736811233615\n"
     ]
    }
   ],
   "source": [
    "mse = mean_squared_error(y_test, predictions)\n",
    "print(f'Mean Squared Error: {mse}')"
   ]
  },
  {
   "cell_type": "code",
   "execution_count": 71,
   "id": "911d6d9e",
   "metadata": {},
   "outputs": [
    {
     "name": "stdout",
     "output_type": "stream",
     "text": [
      "Mean Absolute Percentage Error: 31.627405258211823\n"
     ]
    }
   ],
   "source": [
    "mape = mean_absolute_percentage_error(y_test, predictions)\n",
    "print(f'Mean Absolute Percentage Error: {mape}')"
   ]
  },
  {
   "cell_type": "code",
   "execution_count": 64,
   "id": "ffd32aab",
   "metadata": {},
   "outputs": [
    {
     "name": "stderr",
     "output_type": "stream",
     "text": [
      "[00:34:00] WARNING: C:\\buildkite-agent\\builds\\buildkite-windows-cpu-autoscaling-group-i-0750514818a16474a-1\\xgboost\\xgboost-ci-windows\\src\\c_api\\c_api.cc:1240: Saving into deprecated binary model format, please consider using `json` or `ubj`. Model format will default to JSON in XGBoost 2.2 if not specified.\n"
     ]
    }
   ],
   "source": [
    "explainer = shap.Explainer(model)\n",
    "shap_values = explainer.shap_values(X_test)"
   ]
  },
  {
   "cell_type": "code",
   "execution_count": 65,
   "id": "d2e0d433",
   "metadata": {},
   "outputs": [
    {
     "data": {
      "image/png": "[encoded data removed]",
      "text/plain": [
       "<Figure size 576x367.2 with 1 Axes>"
      ]
     },
     "metadata": {
      "needs_background": "light"
     },
     "output_type": "display_data"
    }
   ],
   "source": [
    "shap.summary_plot(shap_values, X_test, plot_type=\"bar\", feature_names=features)"
   ]
  },
  {
   "cell_type": "markdown",
   "id": "f75bd485",
   "metadata": {},
   "source": [
    "### Simple NN"
   ]
  },
  {
   "cell_type": "markdown",
   "id": "d91852fe",
   "metadata": {},
   "source": [
    "## Я приверженец pytorch, но поставить в jupyter его не смог, а идти в колаб не захотел, пришлось пользоваться tensorflow. Эх перешел на темную сторону( "
   ]
  },
  {
   "cell_type": "code",
   "execution_count": 79,
   "id": "b7c990d7",
   "metadata": {},
   "outputs": [],
   "source": [
    "from sklearn.model_selection import train_test_split\n",
    "from sklearn.preprocessing import StandardScaler\n",
    "from sklearn.metrics import mean_absolute_error\n",
    "from tensorflow import keras\n",
    "from tensorflow.keras import layers"
   ]
  },
  {
   "cell_type": "code",
   "execution_count": 80,
   "id": "7a95121e",
   "metadata": {},
   "outputs": [],
   "source": [
    "features = [col for col in data.columns if col != 'Monthly sunspot number']"
   ]
  },
  {
   "cell_type": "code",
   "execution_count": 81,
   "id": "d43b547d",
   "metadata": {},
   "outputs": [],
   "source": [
    "X = data[features]\n",
    "y = data['Monthly sunspot number']"
   ]
  },
  {
   "cell_type": "code",
   "execution_count": 82,
   "id": "5278ffa1",
   "metadata": {},
   "outputs": [],
   "source": [
    "X_train, X_test, y_train, y_test = train_test_split(X, y, test_size=0.2, random_state=42)"
   ]
  },
  {
   "cell_type": "code",
   "execution_count": 83,
   "id": "f4241a6f",
   "metadata": {},
   "outputs": [],
   "source": [
    "scaler = StandardScaler()\n",
    "X_train_scaled = scaler.fit_transform(X_train)\n",
    "X_test_scaled = scaler.transform(X_test)"
   ]
  },
  {
   "cell_type": "code",
   "execution_count": 84,
   "id": "00286282",
   "metadata": {},
   "outputs": [],
   "source": [
    "def create_model(layers_count):\n",
    "    model = keras.Sequential()\n",
    "    model.add(layers.InputLayer(input_shape=(X_train.shape[1],)))\n",
    "    \n",
    "    for _ in range(layers_count):\n",
    "        model.add(layers.Dense(64, activation='relu'))\n",
    "    \n",
    "    model.add(layers.Dense(1, activation='linear'))\n",
    "    return model"
   ]
  },
  {
   "cell_type": "code",
   "execution_count": 85,
   "id": "9566644a",
   "metadata": {},
   "outputs": [
    {
     "name": "stdout",
     "output_type": "stream",
     "text": [
      "18/18 [==============================] - 0s 893us/step\n",
      "MAE for 2 layers: 7.867164573559524\n",
      "18/18 [==============================] - 0s 1ms/step\n",
      "MAE for 3 layers: 7.788469615219333\n",
      "18/18 [==============================] - 0s 1ms/step\n",
      "MAE for 5 layers: 8.03447494252935\n",
      "18/18 [==============================] - 0s 1ms/step\n",
      "MAE for 7 layers: 7.622968270555667\n"
     ]
    }
   ],
   "source": [
    "for layers_count in [2, 3, 5, 7]:\n",
    "    model = create_model(layers_count)\n",
    "    model.compile(optimizer='adam', loss='mean_absolute_error')\n",
    "    model.fit(X_train_scaled, y_train, epochs=50, batch_size=32, validation_split=0.2, verbose=0)\n",
    "    predictions = model.predict(X_test_scaled).flatten()\n",
    "    mae = mean_absolute_error(y_test, predictions)\n",
    "    print(f'MAE for {layers_count} layers: {mae}')"
   ]
  },
  {
   "cell_type": "code",
   "execution_count": 86,
   "id": "e7565206",
   "metadata": {},
   "outputs": [
    {
     "name": "stdout",
     "output_type": "stream",
     "text": [
      "18/18 [==============================] - 0s 918us/step\n",
      "Mean Squared Error: 132.34545626260515\n",
      "18/18 [==============================] - 0s 1ms/step\n",
      "Mean Squared Error: 127.65322713525086\n",
      "18/18 [==============================] - 0s 1ms/step\n",
      "Mean Squared Error: 122.77033803557703\n",
      "18/18 [==============================] - 0s 1ms/step\n",
      "Mean Squared Error: 147.64907776305145\n"
     ]
    }
   ],
   "source": [
    "for layers_count in [2, 3, 5, 7]:\n",
    "    model = create_model(layers_count)\n",
    "    model.compile(optimizer='adam', loss='mean_absolute_error')\n",
    "    model.fit(X_train_scaled, y_train, epochs=50, batch_size=32, validation_split=0.2, verbose=0)\n",
    "    predictions = model.predict(X_test_scaled).flatten()\n",
    "    mse = mean_squared_error(y_test, predictions)\n",
    "    print(f'Mean Squared Error: {mse}')"
   ]
  },
  {
   "cell_type": "code",
   "execution_count": 87,
   "id": "c1af7110",
   "metadata": {
    "scrolled": true
   },
   "outputs": [
    {
     "name": "stdout",
     "output_type": "stream",
     "text": [
      "18/18 [==============================] - 0s 1ms/step\n",
      "Mean Absolute Percentage Error: 39.212434488218406\n",
      "18/18 [==============================] - 0s 1ms/step\n",
      "Mean Absolute Percentage Error: 42.01912809535665\n",
      "18/18 [==============================] - 0s 1ms/step\n",
      "Mean Absolute Percentage Error: 37.300908702743364\n",
      "18/18 [==============================] - 0s 1ms/step\n",
      "Mean Absolute Percentage Error: 37.29912724657047\n"
     ]
    }
   ],
   "source": [
    "for layers_count in [2, 3, 5, 7]:\n",
    "    model = create_model(layers_count)\n",
    "    model.compile(optimizer='adam', loss='mean_absolute_error')\n",
    "    model.fit(X_train_scaled, y_train, epochs=50, batch_size=32, validation_split=0.2, verbose=0)\n",
    "    predictions = model.predict(X_test_scaled).flatten()\n",
    "    mape = mean_absolute_percentage_error(y_test, predictions)\n",
    "    print(f'Mean Absolute Percentage Error: {mape}')"
   ]
  },
  {
   "cell_type": "markdown",
   "id": "034ac101",
   "metadata": {},
   "source": [
    "### CNN"
   ]
  },
  {
   "cell_type": "code",
   "execution_count": 88,
   "id": "6184c69b",
   "metadata": {},
   "outputs": [],
   "source": [
    "import tensorflow as tf\n",
    "from tensorflow.keras import layers, models"
   ]
  },
  {
   "cell_type": "code",
   "execution_count": 89,
   "id": "75fed74e",
   "metadata": {},
   "outputs": [],
   "source": [
    "X = np.array(X)\n",
    "y = np.array(y)"
   ]
  },
  {
   "cell_type": "code",
   "execution_count": 90,
   "id": "28fa5123",
   "metadata": {},
   "outputs": [],
   "source": [
    "X_train, X_test, y_train, y_test = train_test_split(X, y, test_size=0.2, random_state=42)"
   ]
  },
  {
   "cell_type": "code",
   "execution_count": 91,
   "id": "9af70329",
   "metadata": {},
   "outputs": [],
   "source": [
    "scaler = StandardScaler()\n",
    "X_train = scaler.fit_transform(X_train)\n",
    "X_test = scaler.transform(X_test)"
   ]
  },
  {
   "cell_type": "code",
   "execution_count": 92,
   "id": "5d82300d",
   "metadata": {},
   "outputs": [],
   "source": [
    "X_train = X_train.reshape((X_train.shape[0], X_train.shape[1], 1))\n",
    "X_test = X_test.reshape((X_test.shape[0], X_test.shape[1], 1))"
   ]
  },
  {
   "cell_type": "code",
   "execution_count": 93,
   "id": "aebf9dd0",
   "metadata": {},
   "outputs": [],
   "source": [
    "model = models.Sequential()\n",
    "model.add(layers.Conv1D(filters=32, kernel_size=3, activation='relu', input_shape=(X_train.shape[1], 1)))\n",
    "model.add(layers.MaxPooling1D(pool_size=2))\n",
    "model.add(layers.Flatten())\n",
    "model.add(layers.Dense(64, activation='relu'))\n",
    "model.add(layers.Dense(1))"
   ]
  },
  {
   "cell_type": "code",
   "execution_count": 94,
   "id": "301de4a6",
   "metadata": {},
   "outputs": [],
   "source": [
    "model.compile(optimizer='adam', loss='mae')"
   ]
  },
  {
   "cell_type": "code",
   "execution_count": 95,
   "id": "89310402",
   "metadata": {},
   "outputs": [],
   "source": [
    "history = model.fit(X_train, y_train, epochs=50, batch_size=32, validation_split=0.2, verbose=0)"
   ]
  },
  {
   "cell_type": "code",
   "execution_count": 96,
   "id": "44bbe765",
   "metadata": {},
   "outputs": [
    {
     "name": "stdout",
     "output_type": "stream",
     "text": [
      "18/18 [==============================] - 0s 1ms/step\n"
     ]
    }
   ],
   "source": [
    "predictions = model.predict(X_test)"
   ]
  },
  {
   "cell_type": "code",
   "execution_count": 97,
   "id": "d16d020b",
   "metadata": {},
   "outputs": [
    {
     "name": "stdout",
     "output_type": "stream",
     "text": [
      "Mean Absolute Error: 9.312366863747014\n"
     ]
    }
   ],
   "source": [
    "mae = mean_absolute_error(y_test, predictions)\n",
    "print(f'Mean Absolute Error: {mae}')"
   ]
  },
  {
   "cell_type": "code",
   "execution_count": 98,
   "id": "6e0cf475",
   "metadata": {},
   "outputs": [
    {
     "name": "stdout",
     "output_type": "stream",
     "text": [
      "Mean Squared Error: 180.2615267588361\n"
     ]
    }
   ],
   "source": [
    "mse = mean_squared_error(y_test, predictions)\n",
    "print(f'Mean Squared Error: {mse}')"
   ]
  },
  {
   "cell_type": "code",
   "execution_count": 99,
   "id": "7c5d1d54",
   "metadata": {},
   "outputs": [
    {
     "name": "stdout",
     "output_type": "stream",
     "text": [
      "Mean Absolute Percentage Error: 563.7572260148363\n"
     ]
    }
   ],
   "source": [
    "mape = mean_absolute_percentage_error(y_test, predictions)\n",
    "print(f'Mean Absolute Percentage Error: {mape}')"
   ]
  },
  {
   "cell_type": "markdown",
   "id": "93549359",
   "metadata": {},
   "source": [
    "### LSTM"
   ]
  },
  {
   "cell_type": "code",
   "execution_count": 100,
   "id": "7f619f0e",
   "metadata": {},
   "outputs": [],
   "source": [
    "X = np.array(X)\n",
    "y = np.array(y)"
   ]
  },
  {
   "cell_type": "code",
   "execution_count": 101,
   "id": "65de77fe",
   "metadata": {},
   "outputs": [],
   "source": [
    "n_additional_lags = 14\n",
    "X_additional_lags = np.zeros((X.shape[0], n_additional_lags, X.shape[1]))"
   ]
  },
  {
   "cell_type": "code",
   "execution_count": 102,
   "id": "25a58afc",
   "metadata": {},
   "outputs": [],
   "source": [
    "for i in range(n_additional_lags):\n",
    "    X_additional_lags[:, i, :] = np.roll(X, shift=i, axis=0)"
   ]
  },
  {
   "cell_type": "code",
   "execution_count": 119,
   "id": "66d6176e",
   "metadata": {},
   "outputs": [],
   "source": [
    "# X = np.concatenate((X, X_additional_lags))"
   ]
  },
  {
   "cell_type": "code",
   "execution_count": 120,
   "id": "37a8560c",
   "metadata": {},
   "outputs": [],
   "source": [
    "X_train, X_test, y_train, y_test = train_test_split(X, y, test_size=0.2, random_state=42)"
   ]
  },
  {
   "cell_type": "code",
   "execution_count": 121,
   "id": "287e4a8a",
   "metadata": {},
   "outputs": [],
   "source": [
    "scaler = StandardScaler()\n",
    "X_train = scaler.fit_transform(X_train.reshape(-1, X_train.shape[-1])).reshape(X_train.shape)\n",
    "X_test = scaler.transform(X_test.reshape(-1, X_test.shape[-1])).reshape(X_test.shape)"
   ]
  },
  {
   "cell_type": "code",
   "execution_count": 122,
   "id": "cb9dafbc",
   "metadata": {},
   "outputs": [],
   "source": [
    "def build_lstm_model(input_shape, bidirectional=False):\n",
    "    model = models.Sequential()\n",
    "    if bidirectional:\n",
    "        model.add(layers.Bidirectional(layers.LSTM(64, return_sequences=True), input_shape=input_shape))\n",
    "    else:\n",
    "        model.add(layers.LSTM(64, return_sequences=True, input_shape=input_shape))\n",
    "    model.add(layers.LSTM(32, return_sequences=False))\n",
    "    model.add(layers.Dense(1))\n",
    "    return model"
   ]
  },
  {
   "cell_type": "code",
   "execution_count": 124,
   "id": "e2c4c958",
   "metadata": {},
   "outputs": [],
   "source": [
    "X_train_3d = np.reshape(X_train, (X_train.shape[0], X_train.shape[1], 1))"
   ]
  },
  {
   "cell_type": "code",
   "execution_count": 126,
   "id": "e3abdd86",
   "metadata": {},
   "outputs": [],
   "source": [
    "model_unidirectional = build_lstm_model(X_train_3d.shape[1:])\n",
    "model_unidirectional.compile(optimizer='adam', loss='mae')\n",
    "history_unidirectional = model_unidirectional.fit(X_train_3d, y_train, epochs=50, batch_size=32, validation_split=0.2, verbose=0)"
   ]
  },
  {
   "cell_type": "code",
   "execution_count": 129,
   "id": "403b984a",
   "metadata": {},
   "outputs": [],
   "source": [
    "model_bidirectional = build_lstm_model(X_train_3d.shape[1:])\n",
    "model_bidirectional.compile(optimizer='adam', loss='mae')\n",
    "history_bidirectional = model_unidirectional.fit(X_train_3d, y_train, epochs=50, batch_size=32, validation_split=0.2, verbose=0)"
   ]
  },
  {
   "cell_type": "code",
   "execution_count": 130,
   "id": "52df6665",
   "metadata": {},
   "outputs": [
    {
     "name": "stdout",
     "output_type": "stream",
     "text": [
      "18/18 [==============================] - 0s 2ms/step\n",
      "18/18 [==============================] - 1s 2ms/step\n"
     ]
    }
   ],
   "source": [
    "predictions_unidirectional = model_unidirectional.predict(X_test)\n",
    "predictions_bidirectional = model_bidirectional.predict(X_test)"
   ]
  },
  {
   "cell_type": "code",
   "execution_count": 131,
   "id": "fe731b4c",
   "metadata": {},
   "outputs": [],
   "source": [
    "mae_unidirectional = mean_absolute_error(y_test, predictions_unidirectional)\n",
    "mae_bidirectional = mean_absolute_error(y_test, predictions_bidirectional)"
   ]
  },
  {
   "cell_type": "code",
   "execution_count": 132,
   "id": "4f795b3f",
   "metadata": {},
   "outputs": [
    {
     "name": "stdout",
     "output_type": "stream",
     "text": [
      "MAE for Unidirectional LSTM: 9.931089725731113\n",
      "MAE for Bidirectional LSTM: 50.151523574482894\n"
     ]
    }
   ],
   "source": [
    "print(f'MAE for Unidirectional LSTM: {mae_unidirectional}')\n",
    "print(f'MAE for Bidirectional LSTM: {mae_bidirectional}')"
   ]
  },
  {
   "cell_type": "markdown",
   "id": "b62f24ec",
   "metadata": {},
   "source": [
    "### Выводы:\n",
    "\n",
    "- Создание дополнительных признаков может быть полезным, но результаты зависят от конкретной задачи.\n",
    "\n",
    "- Градиентный бустинг, несмотря на свою популярность, может не всегда превосходить простые методы.\n",
    "\n",
    "- Нейронные сети, в том числе простые, могут хорошо справляться с анализом временных рядов, но структура данных и параметры модели играют важную роль.\n",
    "\n",
    "- В данном случае, использование двунаправленной LSTM не привело к улучшению модели, возможно, из-за неоптимальных параметров или несоответствия данных."
   ]
  },
  {
   "cell_type": "code",
   "execution_count": null,
   "id": "53f99f20",
   "metadata": {},
   "outputs": [],
   "source": []
  }
 ],
 "metadata": {
  "colab": {
   "provenance": []
  },
  "kernelspec": {
   "display_name": "Python 3 (ipykernel)",
   "language": "python",
   "name": "python3"
  },
  "language_info": {
   "codemirror_mode": {
    "name": "ipython",
    "version": 3
   },
   "file_extension": ".py",
   "mimetype": "text/x-python",
   "name": "python",
   "nbconvert_exporter": "python",
   "pygments_lexer": "ipython3",
   "version": "3.9.7"
  },
  "toc": {
   "base_numbering": 1,
   "nav_menu": {},
   "number_sections": true,
   "sideBar": true,
   "skip_h1_title": false,
   "title_cell": "Table of Contents",
   "title_sidebar": "Contents",
   "toc_cell": false,
   "toc_position": {},
   "toc_section_display": true,
   "toc_window_display": false
  },
  "varInspector": {
   "cols": {
    "lenName": 16,
    "lenType": 16,
    "lenVar": 40
   },
   "kernels_config": {
    "python": {
     "delete_cmd_postfix": "",
     "delete_cmd_prefix": "del ",
     "library": "var_list.py",
     "varRefreshCmd": "print(var_dic_list())"
    },
    "r": {
     "delete_cmd_postfix": ") ",
     "delete_cmd_prefix": "rm(",
     "library": "var_list.r",
     "varRefreshCmd": "cat(var_dic_list()) "
    }
   },
   "types_to_exclude": [
    "module",
    "function",
    "builtin_function_or_method",
    "instance",
    "_Feature"
   ],
   "window_display": false
  }
 },
 "nbformat": 4,
 "nbformat_minor": 5
}
